{
 "cells": [
  {
   "cell_type": "code",
   "execution_count": 1,
   "metadata": {
    "execution": {
     "iopub.execute_input": "2021-03-29T08:01:56.443206Z",
     "iopub.status.busy": "2021-03-29T08:01:56.442706Z",
     "iopub.status.idle": "2021-03-29T08:01:56.959581Z",
     "shell.execute_reply": "2021-03-29T08:01:56.959081Z",
     "shell.execute_reply.started": "2021-03-29T08:01:56.443206Z"
    }
   },
   "outputs": [],
   "source": [
    "# Import packages\n",
    "import pandas as pd\n",
    "import requests\n",
    "import io"
   ]
  },
  {
   "cell_type": "code",
   "execution_count": 2,
   "metadata": {
    "execution": {
     "iopub.execute_input": "2021-03-29T08:01:56.960581Z",
     "iopub.status.busy": "2021-03-29T08:01:56.960581Z",
     "iopub.status.idle": "2021-03-29T08:01:56.975084Z",
     "shell.execute_reply": "2021-03-29T08:01:56.974583Z",
     "shell.execute_reply.started": "2021-03-29T08:01:56.960581Z"
    },
    "tags": []
   },
   "outputs": [],
   "source": [
    "def retrieve_data(url_str):\n",
    "    req = requests.get(url_str).content.decode(\"utf-8\")\n",
    "    df = pd.read_csv(io.StringIO(req))\n",
    "    return(df)"
   ]
  },
  {
   "cell_type": "code",
   "execution_count": 3,
   "metadata": {
    "execution": {
     "iopub.execute_input": "2021-03-29T08:01:56.976583Z",
     "iopub.status.busy": "2021-03-29T08:01:56.976084Z",
     "iopub.status.idle": "2021-03-29T08:01:56.990535Z",
     "shell.execute_reply": "2021-03-29T08:01:56.990035Z",
     "shell.execute_reply.started": "2021-03-29T08:01:56.976583Z"
    }
   },
   "outputs": [],
   "source": [
    "# Scrape/access data from https://github.com/dsfsi/covid19za and add to dataframe\n",
    "# \"https://raw.githubusercontent.com/dsfsi/covid19za/master/data/covid19za_provincial_cumulative_timeline_confirmed.csv\"\n",
    "# \"https://raw.githubusercontent.com/ChristopherMarais/Panthera_interview_gcm/main/test.csv\""
   ]
  },
  {
   "cell_type": "code",
   "execution_count": 26,
   "metadata": {
    "execution": {
     "iopub.execute_input": "2021-03-29T10:21:12.697456Z",
     "iopub.status.busy": "2021-03-29T10:21:12.696957Z",
     "iopub.status.idle": "2021-03-29T10:21:13.096316Z",
     "shell.execute_reply": "2021-03-29T10:21:13.095816Z",
     "shell.execute_reply.started": "2021-03-29T10:21:12.696957Z"
    },
    "tags": []
   },
   "outputs": [
    {
     "data": {
      "text/html": [
       "<div>\n",
       "<style scoped>\n",
       "    .dataframe tbody tr th:only-of-type {\n",
       "        vertical-align: middle;\n",
       "    }\n",
       "\n",
       "    .dataframe tbody tr th {\n",
       "        vertical-align: top;\n",
       "    }\n",
       "\n",
       "    .dataframe thead th {\n",
       "        text-align: right;\n",
       "    }\n",
       "</style>\n",
       "<table border=\"1\" class=\"dataframe\">\n",
       "  <thead>\n",
       "    <tr style=\"text-align: right;\">\n",
       "      <th></th>\n",
       "      <th>1</th>\n",
       "      <th>2</th>\n",
       "      <th>3</th>\n",
       "    </tr>\n",
       "  </thead>\n",
       "  <tbody>\n",
       "    <tr>\n",
       "      <th>0</th>\n",
       "      <td>10</td>\n",
       "      <td>4</td>\n",
       "      <td>6</td>\n",
       "    </tr>\n",
       "    <tr>\n",
       "      <th>1</th>\n",
       "      <td>2</td>\n",
       "      <td>4</td>\n",
       "      <td>6</td>\n",
       "    </tr>\n",
       "  </tbody>\n",
       "</table>\n",
       "</div>"
      ],
      "text/plain": [
       "    1  2  3\n",
       "0  10  4  6\n",
       "1   2  4  6"
      ]
     },
     "execution_count": 26,
     "metadata": {},
     "output_type": "execute_result"
    }
   ],
   "source": [
    "df = retrieve_data(\"https://raw.githubusercontent.com/ChristopherMarais/Panthera_interview_gcm/main/test.csv\")\n",
    "df"
   ]
  },
  {
   "cell_type": "code",
   "execution_count": null,
   "metadata": {},
   "outputs": [],
   "source": []
  }
 ],
 "metadata": {
  "kernelspec": {
   "display_name": "Python 3",
   "language": "python",
   "name": "python3"
  },
  "language_info": {
   "codemirror_mode": {
    "name": "ipython",
    "version": 3
   },
   "file_extension": ".py",
   "mimetype": "text/x-python",
   "name": "python",
   "nbconvert_exporter": "python",
   "pygments_lexer": "ipython3",
   "version": "3.8.8"
  }
 },
 "nbformat": 4,
 "nbformat_minor": 4
}
